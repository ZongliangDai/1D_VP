{
 "cells": [
  {
   "cell_type": "markdown",
   "metadata": {},
   "source": [
    "## 输入库"
   ]
  },
  {
   "cell_type": "code",
   "execution_count": 4,
   "metadata": {},
   "outputs": [],
   "source": [
    "import numpy as np\n",
    "import matplotlib.pyplot as plt\n",
    "import time\n",
    "\n",
    "from scipy.interpolate import lagrange\n",
    "from scipy.special import roots_sh_legendre\n",
    "\n",
    "import os\n",
    "import shutil"
   ]
  },
  {
   "cell_type": "markdown",
   "metadata": {},
   "source": [
    "## 功能函数"
   ]
  },
  {
   "cell_type": "markdown",
   "metadata": {},
   "source": [
    "### 傅里叶变换"
   ]
  },
  {
   "cell_type": "code",
   "execution_count": 5,
   "metadata": {},
   "outputs": [],
   "source": [
    "def f2fk(f,NumK):\n",
    "  NumX = f.shape[0]\n",
    "  fk_ex = np.fft.ifft(f, axis=0)\n",
    "  fk = np.conj(fk_ex[:NumK,:])\n",
    "  return fk\n",
    "\n",
    "def fk2f(fk,NumX):\n",
    "  NumK,NumV = fk.shape\n",
    "  fk_ex = np.zeros((NumX,NumV), dtype=complex)\n",
    "  fk_ex[:NumK,:] = fk*NumX\n",
    "  fk_ex[-1:-NumK:-1,:] = np.conj((fk[1:NumK,:])*NumX)\n",
    "  f = np.real(np.fft.ifft(fk_ex, axis=0))\n",
    "  return f"
   ]
  },
  {
   "cell_type": "markdown",
   "metadata": {},
   "source": [
    "### 2D 拉格朗日插值"
   ]
  },
  {
   "cell_type": "code",
   "execution_count": 6,
   "metadata": {},
   "outputs": [],
   "source": [
    "def LBF(Node):\n",
    "  N = Node.shape[0]\n",
    "  LBFpoly = [np.poly1d([1]) for _ in range(N)]\n",
    "  for i in range(N):\n",
    "    for j in range(N):\n",
    "      if i != j:\n",
    "        LBFpoly[i] *= Li_unit_poly(Node[i],Node[j])\n",
    "  return LBFpoly\n",
    "\n",
    "\n",
    "def Li_unit_poly(x0,x1):\n",
    "  return np.poly1d([1/(x0-x1),x1/(x1-x0)])\n",
    "\n",
    "\n",
    "def LagF(Xpolys,Ypolys,xyRange,zNode,x,y):\n",
    "  xMin,yMin,xLen,yLen = xyRange\n",
    "  x0 = (x-xMin)/xLen\n",
    "  y0 = (y-yMin)/yLen\n",
    "  xVals = np.array([poly(x0) for poly in Xpolys])\n",
    "  yVals = np.array([poly(y0) for poly in Ypolys])\n",
    "  re = 0.0\n",
    "  for i in range(0,xVals.shape[0]):\n",
    "    for j in range(0,yVals.shape[0]):\n",
    "      re += xVals[i]*yVals[j]*zNode[i,j]\n",
    "  return re"
   ]
  },
  {
   "cell_type": "markdown",
   "metadata": {},
   "source": [
    "### 格式"
   ]
  },
  {
   "cell_type": "code",
   "execution_count": 7,
   "metadata": {},
   "outputs": [],
   "source": [
    "def Scheming(Schemer,*args):\n",
    "  def warpper(*args):\n",
    "    return Schemer(*args)\n",
    "  return warpper\n",
    "\n",
    "\n",
    "@Scheming\n",
    "def REC_WENO(U,bc,Limiter):\n",
    "  Nb = U.shape[0] + 1\n",
    "  UL = np.zeros((Nb))\n",
    "  UR = np.zeros((Nb))\n",
    "\n",
    "  if bc == 'Periodic':\n",
    "    UE = np.concatenate((U[-3:],U,U[:3]))\n",
    "  else:\n",
    "    ones = np.ones((3))\n",
    "    UE = np.concatenate((U[0]*ones,U,U[-1:]*ones))\n",
    "\n",
    "  for j in range(0, Nb):\n",
    "    UL[j] = Limiting(Limiter)(UE[j:j+5])\n",
    "    UR[j] = Limiting(Limiter)(UE[j+5:j:-1])\n",
    "\n",
    "  return UL,UR\n",
    "\n",
    "\n",
    "@Scheming\n",
    "def MUSCL(UA,boundary,Limiter):\n",
    "  if boundary == 'Periodic':\n",
    "    UAE = np.concatenate(([UA[-1]],UA,[UA[0]]))\n",
    "  else:\n",
    "    UAE = np.concatenate(([UA[0]],UA,[UA[-1]]))\n",
    "\n",
    "  DU = UAE[1:] - 1.0*UAE[:-1]\n",
    "  UL = UA + 0.5*DU[1:]*Limiting(Limiter)(DU[:-1],DU[1:])\n",
    "  UR = UA - 0.5*DU[:-1]*Limiting(Limiter)(DU[1:],DU[:-1])\n",
    "\n",
    "  if boundary == 'Periodic':\n",
    "    UL = np.concatenate(([UL[-1]],UL))\n",
    "    UR = np.concatenate((UR,[UR[0]]))\n",
    "  else:\n",
    "    UL = np.concatenate(([UL[0]],UL))\n",
    "    UR = np.concatenate((UR,[UR[-1]]))\n",
    "\n",
    "  return UL,UR"
   ]
  },
  {
   "cell_type": "markdown",
   "metadata": {},
   "source": [
    "### 限制器"
   ]
  },
  {
   "cell_type": "code",
   "execution_count": 8,
   "metadata": {},
   "outputs": [],
   "source": [
    "def Limiting(Limiter,*args):\n",
    "  def warpper(*args):\n",
    "    return Limiter(*args)\n",
    "  return warpper\n",
    "\n",
    "\n",
    "@Limiting\n",
    "def VanLeer(r1,r2):\n",
    "  sign = (r1*r2) > 0\n",
    "  isZ = (r2 == 0)\n",
    "  r2 = r2 + isZ * 1e-10  # 避免除以零错误，添加一个极小正值\n",
    "  r = r1 / r2 * np.where(sign, 1.0, 0.0)\n",
    "  return (np.abs(r)+r)/(np.abs(r)+1)\n",
    "\n",
    "\n",
    "@Limiting\n",
    "def Minmod(r1,r2):\n",
    "  sign = (r1*r2) > 0\n",
    "  isZ = (r2 == 0)\n",
    "  r2 = r2 + isZ * 1e-10  # 避免除以零错误，添加一个极小正值\n",
    "  r = r1 / r2 * np.where(sign, 1.0, 0.0)\n",
    "  return np.where(r < 1.0, r, 0.0)\n",
    "\n",
    "\n",
    "@Limiting\n",
    "def WENO5_FD(S):\n",
    "  eps = 1e-10\n",
    "  V3 = ( 3.0*S[2] +  6.0*S[3] -  1.0*S[4])*0.125\n",
    "  V2 = (-1.0*S[1] +  6.0*S[2] +  3.0*S[3])*0.125\n",
    "  V1 = ( 3.0*S[0] - 10.0*S[1] + 15.0*S[2])*0.125\n",
    "  B3 = 13.0/12.0*(S[2]-2.0*S[3]+S[4])**2+0.25*(3.0*S[2]-4.0*S[3]+S[4])**2\n",
    "  B2 = 13.0/12.0*(S[1]-2.0*S[2]+S[3])**2+0.25*(S[1]-1.0*S[3])**2\n",
    "  B1 = 13.0/12.0*(S[0]-2.0*S[1]+S[2])**2+0.25*(3.0*S[2]-4.0*S[1]+S[0])**2\n",
    "  A3 = 0.3/(B3**2+eps)\n",
    "  A2 = 0.6/(B2**2+eps)\n",
    "  A1 = 0.1/(B1**2+eps)\n",
    "  return (A1*V1+A2*V2+A3*V3)/(A1+A2+A3)\n",
    "\n",
    "\n",
    "@Limiting\n",
    "def WENO5_FV(S):\n",
    "  eps = 1e-10\n",
    "  h = 1.0/6.0\n",
    "  V3 = ( 2.0*S[2] + 5.0*S[3] -  1.0*S[4])*h\n",
    "  V2 = (-1.0*S[1] + 5.0*S[2] +  2.0*S[3])*h\n",
    "  V1 = ( 2.0*S[0] - 7.0*S[1] + 11.0*S[2])*h\n",
    "  B3 = 13.0/12.0*(S[2]-2.0*S[3]+S[4])**2+0.25*(3.0*S[2]-4.0*S[3]+S[4])**2\n",
    "  B2 = 13.0/12.0*(S[1]-2.0*S[2]+S[3])**2+0.25*(S[1]-1.0*S[3])**2\n",
    "  B1 = 13.0/12.0*(S[0]-2.0*S[1]+S[2])**2+0.25*(3.0*S[2]-4.0*S[1]+S[0])**2\n",
    "  A3 = 0.3/(B3**2+eps)\n",
    "  A2 = 0.6/(B2**2+eps)\n",
    "  A1 = 0.1/(B1**2+eps)\n",
    "  return (A1*V1+A2*V2+A3*V3)/(A1+A2+A3)"
   ]
  },
  {
   "cell_type": "markdown",
   "metadata": {},
   "source": [
    "### 通量"
   ]
  },
  {
   "cell_type": "code",
   "execution_count": 9,
   "metadata": {},
   "outputs": [],
   "source": [
    "def Fluxing(Fluxer,*args):\n",
    "  def warpper(*args):\n",
    "    return Fluxer(*args)\n",
    "  return warpper\n",
    "\n",
    "\n",
    "@Fluxing\n",
    "def Burgers(UL,UR,a):\n",
    "  return 0.25*(UL**2+UR**2+np.abs(UL+UR)*(UL-UR))\n",
    "\n",
    "\n",
    "@Fluxing\n",
    "def Advection(UL,UR,a):\n",
    "  return (a>0)*a*UL + (a<0)*a*UR"
   ]
  },
  {
   "cell_type": "markdown",
   "metadata": {},
   "source": [
    "### 场方程"
   ]
  },
  {
   "cell_type": "code",
   "execution_count": 10,
   "metadata": {},
   "outputs": [],
   "source": [
    "def Field(dfk,e,k,dv,eps):\n",
    "  dNek = np.sum(dfk,axis=1).reshape(-1,1)*dv\n",
    "  phik = np.where( k < 0.1*k[1,0],\n",
    "    0.0,\n",
    "    e*dNek/(eps*k*k))\n",
    "  return(phik)"
   ]
  },
  {
   "cell_type": "markdown",
   "metadata": {},
   "source": [
    "### 诊断"
   ]
  },
  {
   "cell_type": "code",
   "execution_count": 11,
   "metadata": {},
   "outputs": [],
   "source": [
    "def Diagnoses(t,phik,dfk,k0):\n",
    "  with open('Output/TimeList.dat','a') as file:\n",
    "    file.write(f'{t}\\n')\n",
    "\n",
    "  phi = fk2f(phik,Nx)\n",
    "  #ene = 0.5*eps*np.sum(phi**2)*dx\n",
    "  ene = np.sum(np.abs(phik)**2)*np.pi/k0\n",
    "  with open('Output/energy.dat','a') as file:\n",
    "    file.write(f'{ene}\\n')\n",
    "\n",
    "  with open('Output/phi.dat', 'ab') as f:\n",
    "    phi.tofile(f)\n",
    "  with open('Output/phik.dat', 'ab') as f:\n",
    "    abs(phik).tofile(f)\n",
    "  with open('Output/fa.dat', 'ab') as f:\n",
    "    abs(dfk[0,:]).tofile(f)"
   ]
  },
  {
   "cell_type": "markdown",
   "metadata": {},
   "source": [
    "## 初始化"
   ]
  },
  {
   "cell_type": "markdown",
   "metadata": {},
   "source": [
    "### 设置输入参数"
   ]
  },
  {
   "cell_type": "code",
   "execution_count": 12,
   "metadata": {},
   "outputs": [],
   "source": [
    "m   =  1.0\n",
    "e   = -1.0\n",
    "n   =  1.0\n",
    "tem =  1.0\n",
    "\n",
    "FlagPhi0 = False\n",
    "FlagPhi1 = True\n",
    "FlagNL   = True\n",
    "\n",
    "TotalTime = 200.0\n",
    "dt        = 0.1\n",
    "nDiag     = 500\n",
    "MaxStep   = 20000\n",
    "\n",
    "Nk   = 32\n",
    "Nv   = 513\n",
    "vMax = 6.0\n",
    "\n",
    "phi0A      = 0.0\n",
    "phi0Lambda = 10.0\n",
    "k0         = 0.4\n",
    "delta      = 0.05"
   ]
  },
  {
   "cell_type": "code",
   "execution_count": 13,
   "metadata": {},
   "outputs": [],
   "source": [
    "#global_list = ['m','e','n','tem','FlagPhi0','FlagPhi1','FlagNL','TotalTime','dt','nDiag','MaxStep','']\n",
    "#for var_name in global_list:\n",
    "#  globals()[var_name] = globals().get(var_name,None)"
   ]
  },
  {
   "cell_type": "markdown",
   "metadata": {},
   "source": [
    "### 初始化——全局信息"
   ]
  },
  {
   "cell_type": "markdown",
   "metadata": {},
   "source": [
    "定义物理常数"
   ]
  },
  {
   "cell_type": "code",
   "execution_count": 14,
   "metadata": {},
   "outputs": [],
   "source": [
    "m0       = 9.1094e-31       # kg\n",
    "e0       = 1.6021892e-19    # C\n",
    "n0       = 1.0e19           # m^-3\n",
    "tem0     = 1.0              # keV\n",
    "epsilon0 = 8.854187817e-12  # F/m\n",
    "B0       = 1.0              # T\n",
    "mp       = 1.6726485e-27    # kg"
   ]
  },
  {
   "cell_type": "code",
   "execution_count": 15,
   "metadata": {},
   "outputs": [],
   "source": [
    "#global_list = ['m0','e0','n0','tem0','epsilon0','B0','mp']\n",
    "#for var_name in global_list:\n",
    "#  globals()[var_name] = globals().get(var_name,None)"
   ]
  },
  {
   "cell_type": "markdown",
   "metadata": {},
   "source": [
    "初始化归一"
   ]
  },
  {
   "cell_type": "code",
   "execution_count": 16,
   "metadata": {},
   "outputs": [],
   "source": [
    "mRef = m0\n",
    "eRef = e0\n",
    "nRef = n0\n",
    "temRef = tem0*1000.0*e0\n",
    "\n",
    "vRef = np.sqrt(temRef/mRef)\n",
    "tRef = np.sqrt(epsilon0*mRef/(nRef*eRef*eRef))\n",
    "xRef = vRef*tRef"
   ]
  },
  {
   "cell_type": "code",
   "execution_count": 17,
   "metadata": {},
   "outputs": [],
   "source": [
    "#global_list = ['mRef','eRef','nRef','temRef','vRef','tRef','xRef']\n",
    "#for var_name in global_list:\n",
    "#  globals()[var_name] = globals().get(var_name,None)"
   ]
  },
  {
   "cell_type": "markdown",
   "metadata": {},
   "source": [
    "初始化扰动"
   ]
  },
  {
   "cell_type": "code",
   "execution_count": 18,
   "metadata": {},
   "outputs": [],
   "source": [
    "phi0A = phi0A*1000.0*e0/temRef\n",
    "#k0 = 2.0*np.pi*xRef/phi0Lambda\n",
    "#k0 = 0.4\n",
    "\n",
    "cPhi0 = 1.0 if FlagPhi0 else 0.0\n",
    "cPhi1 = 1.0 if FlagPhi1 else 0.0\n",
    "FlagCor = False\n",
    "\n",
    "em = e/m\n",
    "eps = 1.0"
   ]
  },
  {
   "cell_type": "code",
   "execution_count": 19,
   "metadata": {},
   "outputs": [],
   "source": [
    "#global_list = ['em','eps','cPhi0','cPhi1','FlagCor']\n",
    "#for var_name in global_list:\n",
    "#  globals()[var_name] = globals().get(var_name,None)"
   ]
  },
  {
   "cell_type": "markdown",
   "metadata": {},
   "source": [
    "初始化网格"
   ]
  },
  {
   "cell_type": "code",
   "execution_count": 20,
   "metadata": {},
   "outputs": [],
   "source": [
    "class Element:\n",
    "  def __init__(self,accOrder=3):\n",
    "    self.Neibours = [[None,None],[None,None]]\n",
    "    self.Randge = [[0,1],[0,1]]\n",
    "    self.NodeValues = np.zeros(accOrder)\n",
    "    self.Flux = np.zeros((2,2))\n",
    "    self.LocalMoment = np.zeros(3)\n",
    "\n",
    "  def get_age(self):\n",
    "    return self.__age\n",
    "\n",
    "  def set_age(self, new_age):\n",
    "    if isinstance(new_age, int) and new_age >= 0:\n",
    "      self.__age = new_age\n",
    "    else:\n",
    "      raise ValueError(\"Age must be a non-negative integer.\")\n",
    "\n",
    "    # 定义一个显示个人信息的方法\n",
    "  def display_info(self):\n",
    "    print(f\"Name: {self.name}, Age: {self.get_age()}\")"
   ]
  },
  {
   "cell_type": "code",
   "execution_count": null,
   "metadata": {},
   "outputs": [],
   "source": [
    "class xInterface:\n",
    "  def __init__(self,Dim,Pos=[0,0]):\n",
    "    self.Dimension = Dim\n",
    "    self.Position = Pos\n",
    "    self.Neibours = [None,None]\n",
    "    self.Direction = np.sgn(Pos[1])\n",
    "\n",
    "  def update_xDirection(self):\n",
    "    if self.Dimension==1:\n",
    "      self.Direction = -sgn(Ele(self.Position[0]))\n",
    "    self.Neibours[0] = Neibour\n",
    "    self.Neibours[1] = -Neibour\n",
    "\n",
    "  def getFlux(self):\n",
    "    Direction = np.sgn(np.sum(self.Velocity*self.NormalVector))\n",
    "    self.Neibours[0] = Ele(self.Position[0])\n",
    "    self.Neibours[1] = -Flux"
   ]
  },
  {
   "cell_type": "code",
   "execution_count": 197,
   "metadata": {},
   "outputs": [],
   "source": [
    "#global_list = ['k','Nx','dx','x','Nv','dv','hv','v']\n",
    "#for var_name in global_list:\n",
    "#  globals()[var_name] = globals().get(var_name,None)"
   ]
  },
  {
   "cell_type": "markdown",
   "metadata": {},
   "source": [
    "初始化$F_0$"
   ]
  },
  {
   "cell_type": "code",
   "execution_count": 198,
   "metadata": {},
   "outputs": [],
   "source": [
    "F0 = np.sqrt(m/(2.0*np.pi*tem))*np.exp(-0.5*m*v**2/tem)\n",
    "\n",
    "dvF0 = np.zeros_like(F0)\n",
    "dvF0[0,0] = (F0[0,1]-F0[0,0])*hv\n",
    "dvF0[0,1:-1] = (F0[0,2:]-F0[0,:-2])*0.5*hv\n",
    "dvF0[0,-1] = (F0[0,-1]-F0[0,-2])*hv"
   ]
  },
  {
   "cell_type": "code",
   "execution_count": 199,
   "metadata": {},
   "outputs": [],
   "source": [
    "#global_list = ['F0','dvF0']\n",
    "#for var_name in global_list:\n",
    "#  globals()[var_name] = globals().get(var_name,None)"
   ]
  },
  {
   "cell_type": "markdown",
   "metadata": {},
   "source": [
    "初始化$\\phi_0$"
   ]
  },
  {
   "cell_type": "code",
   "execution_count": 200,
   "metadata": {},
   "outputs": [],
   "source": [
    "phi0k = np.zeros_like(k)\n",
    "phi0k[1,0] = 0.5*phi0A\n",
    "phi0 = fk2f(phi0k,Nx)"
   ]
  },
  {
   "cell_type": "code",
   "execution_count": 201,
   "metadata": {},
   "outputs": [],
   "source": [
    "#global_list = ['phi0k']\n",
    "#for var_name in global_list:\n",
    "#  globals()[var_name] = globals().get(var_name,None)"
   ]
  },
  {
   "cell_type": "markdown",
   "metadata": {},
   "source": [
    "输出$\\phi_0\\left(x\\right)$"
   ]
  },
  {
   "cell_type": "code",
   "execution_count": 202,
   "metadata": {},
   "outputs": [
    {
     "data": {
      "text/plain": [
       "<matplotlib.legend.Legend at 0x1fbfd746e60>"
      ]
     },
     "execution_count": 202,
     "metadata": {},
     "output_type": "execute_result"
    },
    {
     "data": {
      "image/png": "[encoded data removed]",
      "text/plain": [
       "<Figure size 640x480 with 1 Axes>"
      ]
     },
     "metadata": {},
     "output_type": "display_data"
    }
   ],
   "source": [
    "fig, ax1 = plt.subplots()\n",
    "ax1.plot(k0*x/(2.0*np.pi),phi0,color='red',label='Difference')\n",
    "ax1.set_xlabel('$k_0 x / 2\\pi$',color='black')\n",
    "ax1.set_ylabel('$\\phi_0$',color='black')\n",
    "ax1.tick_params(axis='y', color='black')\n",
    "ax1.legend(loc = 'upper left')"
   ]
  },
  {
   "cell_type": "markdown",
   "metadata": {},
   "source": [
    "### 初始化——扰动分布"
   ]
  },
  {
   "cell_type": "markdown",
   "metadata": {},
   "source": [
    "初始化$\\delta f_k$"
   ]
  },
  {
   "cell_type": "code",
   "execution_count": 203,
   "metadata": {},
   "outputs": [],
   "source": [
    "dfk  = np.zeros((Nk,Nv))\n",
    "dfk[1,:] = delta*0.5*F0\n",
    "dfk0 = np.zeros_like(dfk)\n",
    "\n",
    "phik = np.zeros_like(k)\n",
    "phi = np.zeros_like(x)"
   ]
  },
  {
   "cell_type": "markdown",
   "metadata": {},
   "source": [
    "### 初始化——未扰动演化信息"
   ]
  },
  {
   "cell_type": "code",
   "execution_count": 204,
   "metadata": {},
   "outputs": [],
   "source": [
    "k_ex = k[:,:,np.newaxis]\n",
    "v_ex = v[:,:,np.newaxis]\n",
    "dtc = np.arange(1,3).reshape(1,1,2)*0.5*dt\n",
    "\n",
    "UpdPhase = np.exp(-1j*k_ex*v_ex*dtc)"
   ]
  },
  {
   "cell_type": "code",
   "execution_count": 205,
   "metadata": {},
   "outputs": [
    {
     "name": "stderr",
     "output_type": "stream",
     "text": [
      "C:\\Users\\73463\\AppData\\Local\\Temp\\ipykernel_2024\\1572960961.py:5: RuntimeWarning: invalid value encountered in divide\n",
      "  em*(1.0-np.exp(-1j*k_ex*v_ex*dtc))/v_ex)\n",
      "C:\\Users\\73463\\AppData\\Local\\Temp\\ipykernel_2024\\1572960961.py:8: RuntimeWarning: divide by zero encountered in divide\n",
      "  Gkv_phik/(1j*k_ex*v_ex)-em*dtc*np.exp(-1j*k_ex*v_ex*dtc)/v_ex)\n",
      "C:\\Users\\73463\\AppData\\Local\\Temp\\ipykernel_2024\\1572960961.py:8: RuntimeWarning: invalid value encountered in divide\n",
      "  Gkv_phik/(1j*k_ex*v_ex)-em*dtc*np.exp(-1j*k_ex*v_ex*dtc)/v_ex)\n"
     ]
    }
   ],
   "source": [
    "condition = np.abs(k_ex*v_ex) < 0.1*dv\n",
    "\n",
    "Gkv_phik = np.where(condition,\n",
    "        em*1j*k_ex*np.ones_like(v_ex)*dtc,\n",
    "        em*(1.0-np.exp(-1j*k_ex*v_ex*dtc))/v_ex)\n",
    "Gkx_phik = np.where(condition,\n",
    "        0.5*Gkv_phik*dtc,\n",
    "        Gkv_phik/(1j*k_ex*v_ex)-em*dtc*np.exp(-1j*k_ex*v_ex*dtc)/v_ex)\n",
    "\n",
    "#del k_ex,v_ex,dtc,condition"
   ]
  },
  {
   "cell_type": "markdown",
   "metadata": {},
   "source": [
    "### 初始化——诊断"
   ]
  },
  {
   "cell_type": "code",
   "execution_count": 206,
   "metadata": {},
   "outputs": [],
   "source": [
    "DiagTime = TotalTime/nDiag\n",
    "\n",
    "output_folder = 'Output'\n",
    "if os.path.exists(output_folder):\n",
    "  shutil.rmtree(output_folder)\n",
    "os.makedirs(output_folder)\n",
    "\n",
    "\n",
    "np.savetxt('Output/Normalization.dat', \n",
    "    [mRef,eRef,tRef,vRef,xRef,k0,TotalTime,dt])\n",
    "\n",
    "k.tofile('Output/k.bin')\n",
    "x.tofile('Output/x.bin')\n",
    "v.tofile('Output/v.bin')\n",
    "F0.tofile('Output/F0.bin')\n",
    "phi0.tofile('Output/Phi0.bin')\n",
    "phi0k.tofile('Output/Phi0k.bin')"
   ]
  },
  {
   "cell_type": "markdown",
   "metadata": {},
   "source": [
    "## 第0步计算"
   ]
  },
  {
   "cell_type": "code",
   "execution_count": 207,
   "metadata": {},
   "outputs": [
    {
     "name": "stderr",
     "output_type": "stream",
     "text": [
      "C:\\Users\\73463\\AppData\\Local\\Temp\\ipykernel_2024\\4228897554.py:5: RuntimeWarning: invalid value encountered in divide\n",
      "  e*dNek/(eps*k*k))\n"
     ]
    }
   ],
   "source": [
    "'时间'\n",
    "t = 0.0\n",
    "tStep = 0\n",
    "\n",
    "'场方程'\n",
    "phik = Field(dfk,e,k,dv,eps)\n",
    "phi = fk2f(phik,Nx)\n",
    "\n",
    "'诊断'\n",
    "Diagnoses(t,phik,dfk,k0)"
   ]
  },
  {
   "cell_type": "markdown",
   "metadata": {},
   "source": [
    "Plot输出"
   ]
  },
  {
   "cell_type": "code",
   "execution_count": 208,
   "metadata": {},
   "outputs": [
    {
     "data": {
      "text/plain": [
       "<matplotlib.legend.Legend at 0x1fbfd7b9e40>"
      ]
     },
     "execution_count": 208,
     "metadata": {},
     "output_type": "execute_result"
    },
    {
     "data": {
      "image/png": "[encoded data removed]",
      "text/plain": [
       "<Figure size 640x480 with 1 Axes>"
      ]
     },
     "metadata": {},
     "output_type": "display_data"
    }
   ],
   "source": [
    "fig, ax1 = plt.subplots()\n",
    "ax1.plot(k0*x/(2.0*np.pi),phi,color='red',label='Difference')\n",
    "ax1.set_xlabel('$k_0 x / 2\\pi$',color='black')\n",
    "ax1.set_ylabel('$\\delta\\phi$',color='black')\n",
    "ax1.tick_params(axis='y', color='black')\n",
    "ax1.legend(loc = 'upper left')"
   ]
  },
  {
   "cell_type": "markdown",
   "metadata": {},
   "source": [
    "## 主循环"
   ]
  },
  {
   "cell_type": "code",
   "execution_count": 209,
   "metadata": {},
   "outputs": [
    {
     "name": "stderr",
     "output_type": "stream",
     "text": [
      "C:\\Users\\73463\\AppData\\Local\\Temp\\ipykernel_2024\\4228897554.py:5: RuntimeWarning: divide by zero encountered in divide\n",
      "  e*dNek/(eps*k*k))\n",
      "C:\\Users\\73463\\AppData\\Local\\Temp\\ipykernel_2024\\4228897554.py:5: RuntimeWarning: invalid value encountered in divide\n",
      "  e*dNek/(eps*k*k))\n"
     ]
    },
    {
     "name": "stdout",
     "output_type": "stream",
     "text": [
      "Task has run 10.0%, this 10.0% is used 9.939 seconds.\n",
      "Task has run 20.0%, this 10.0% is used 7.555 seconds.\n",
      "Task has run 30.0%, this 10.0% is used 7.518 seconds.\n",
      "Task has run 40.0%, this 10.0% is used 7.400 seconds.\n",
      "Task has run 50.0%, this 10.0% is used 7.703 seconds.\n",
      "Task has run 60.0%, this 10.0% is used 7.433 seconds.\n",
      "Task has run 70.0%, this 10.0% is used 7.560 seconds.\n",
      "Task has run 80.0%, this 10.0% is used 7.390 seconds.\n",
      "Task has run 90.0%, this 10.0% is used 7.462 seconds.\n",
      "Task has run 100.0%, this 10.0% is used 7.447 seconds.\n"
     ]
    }
   ],
   "source": [
    "NotePst = 10.0  # 5%\n",
    "NoteTime = TotalTime*0.01*NotePst\n",
    "\n",
    "STime = time.perf_counter()\n",
    "while t < TotalTime-0.1*dt:\n",
    "  t += dt\n",
    "  tStep += 1\n",
    "\n",
    "  'Prediction'\n",
    "  if FlagNL:\n",
    "    PreOrCor = 0\n",
    "    dfk0 = dfk\n",
    "    dfk = Upd(PreOrCor,UpdPhase,dfk0)\n",
    "    dfk = PullBack(FlagNL,PreOrCor,phik,Gkx_phik,Gkv_phik,dvF0,dfk,k,hv)\n",
    "    phik = Field(dfk,e,k,dv,eps)\n",
    "  \n",
    "  'Correction'\n",
    "  PreOrCor = 1\n",
    "  if not FlagNL:\n",
    "    dfk0 = dfk\n",
    "  dfk = Upd(PreOrCor,UpdPhase,dfk0)\n",
    "  dfk = PullBack(FlagNL,PreOrCor,phik,Gkx_phik,Gkv_phik,dvF0,dfk,k,hv)\n",
    "  phik = Field(dfk,e,k,dv,eps)\n",
    "\n",
    "  if abs(round(t/DiagTime)*DiagTime-t) <= 0.1*dt:\n",
    "    Diagnoses(t,phik,dfk,k0)\n",
    "\n",
    "  if abs(round(t/NoteTime)*NoteTime-t) <= 0.1*dt:\n",
    "    ETime = time.perf_counter()\n",
    "    task_completion = round(t/NoteTime)*NotePst\n",
    "    print(f'Task has run {task_completion}%, '\n",
    "          f'this {NotePst}% is used {ETime-STime:.3f} seconds.')\n",
    "    STime = ETime"
   ]
  },
  {
   "cell_type": "markdown",
   "metadata": {},
   "source": [
    "## 输出"
   ]
  },
  {
   "cell_type": "code",
   "execution_count": 210,
   "metadata": {},
   "outputs": [
    {
     "data": {
      "text/plain": [
       "<matplotlib.legend.Legend at 0x1fbfd801e40>"
      ]
     },
     "execution_count": 210,
     "metadata": {},
     "output_type": "execute_result"
    },
    {
     "data": {
      "image/png": "[encoded data removed]",
      "text/plain": [
       "<Figure size 640x480 with 1 Axes>"
      ]
     },
     "metadata": {},
     "output_type": "display_data"
    }
   ],
   "source": [
    "t = np.loadtxt('Output/TimeList.dat')\n",
    "ene = np.loadtxt('Output/energy.dat')\n",
    "\n",
    "fig, ax1 = plt.subplots()\n",
    "ax1.plot(t,np.log10(ene),color='red',label='Difference')\n",
    "ax1.set_xlabel('$k_0 x / 2\\pi$',color='black')\n",
    "ax1.set_ylabel('$\\delta\\phi$',color='black')\n",
    "ax1.set_xlim(0, TotalTime)\n",
    "ax1.set_ylim(-4, -1)\n",
    "ax1.tick_params(axis='y', color='black')\n",
    "ax1.legend(loc = 'upper right')\n",
    "\n",
    "#plt.savefig('Nonlinear.jpg', format='jpg')\n",
    "#plt.show()"
   ]
  }
 ],
 "metadata": {
  "kernelspec": {
   "display_name": "Python 3",
   "language": "python",
   "name": "python3"
  },
  "language_info": {
   "codemirror_mode": {
    "name": "ipython",
    "version": 3
   },
   "file_extension": ".py",
   "mimetype": "text/x-python",
   "name": "python",
   "nbconvert_exporter": "python",
   "pygments_lexer": "ipython3",
   "version": "3.10.7"
  }
 },
 "nbformat": 4,
 "nbformat_minor": 2
}
