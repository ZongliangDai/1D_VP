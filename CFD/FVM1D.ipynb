{
 "cells": [
  {
   "cell_type": "markdown",
   "metadata": {},
   "source": [
    "# FVM1D"
   ]
  },
  {
   "cell_type": "markdown",
   "metadata": {},
   "source": [
    "## 输入库"
   ]
  },
  {
   "cell_type": "code",
   "execution_count": 60,
   "metadata": {},
   "outputs": [],
   "source": [
    "import numpy as np\n",
    "import time\n",
    "import matplotlib.pyplot as plt\n",
    "import os\n",
    "import shutil\n",
    "#import matplotlib.gridspec as gridspec"
   ]
  },
  {
   "cell_type": "markdown",
   "metadata": {},
   "source": [
    "## 功能函数"
   ]
  },
  {
   "cell_type": "markdown",
   "metadata": {},
   "source": [
    "### 格式"
   ]
  },
  {
   "cell_type": "code",
   "execution_count": 61,
   "metadata": {},
   "outputs": [],
   "source": [
    "def Scheming(Schemer,*args):\n",
    "  def warpper(*args):\n",
    "    return Schemer(*args)\n",
    "  return warpper\n",
    "\n",
    "\n",
    "@Scheming\n",
    "def REC_WENO(U,bc,Limiter):\n",
    "  Nb = U.shape[0] + 1\n",
    "  UL = np.zeros((Nb))\n",
    "  UR = np.zeros((Nb))\n",
    "\n",
    "  if bc == 'Periodic':\n",
    "    UE = np.concatenate((U[-3:],U,U[:3]))\n",
    "  else:\n",
    "    ones = np.ones((3))\n",
    "    UE = np.concatenate((U[0]*ones,U,U[-1:]*ones))\n",
    "\n",
    "  for j in range(0, Nb):\n",
    "    UL[j] = Limiting(Limiter)(UE[j:j+5])\n",
    "    UR[j] = Limiting(Limiter)(UE[j+5:j:-1])\n",
    "\n",
    "  return UL,UR\n",
    "\n",
    "\n",
    "@Scheming\n",
    "def MUSCL(UA,boundary,Limiter):\n",
    "  if boundary == 'Periodic':\n",
    "    UAE = np.concatenate(([UA[-1]],UA,[UA[0]]))\n",
    "  else:\n",
    "    UAE = np.concatenate(([UA[0]],UA,[UA[-1]]))\n",
    "\n",
    "  DU = UAE[1:] - 1.0*UAE[:-1]\n",
    "  UL = UA + 0.5*DU[1:]*Limiting(Limiter)(DU[:-1],DU[1:])\n",
    "  UR = UA - 0.5*DU[:-1]*Limiting(Limiter)(DU[1:],DU[:-1])\n",
    "\n",
    "  if boundary == 'Periodic':\n",
    "    UL = np.concatenate(([UL[-1]],UL))\n",
    "    UR = np.concatenate((UR,[UR[0]]))\n",
    "  else:\n",
    "    UL = np.concatenate(([UL[0]],UL))\n",
    "    UR = np.concatenate((UR,[UR[-1]]))\n",
    "\n",
    "  return UL,UR"
   ]
  },
  {
   "cell_type": "markdown",
   "metadata": {},
   "source": [
    "### 限制器"
   ]
  },
  {
   "cell_type": "code",
   "execution_count": 62,
   "metadata": {},
   "outputs": [],
   "source": [
    "def Limiting(Limiter,*args):\n",
    "  def warpper(*args):\n",
    "    return Limiter(*args)\n",
    "  return warpper\n",
    "\n",
    "\n",
    "@Limiting\n",
    "def VanLeer(r1,r2):\n",
    "  sign = (r1*r2) > 0\n",
    "  isZ = (r2 == 0)\n",
    "  r2 = r2 + isZ * 1e-10  # 避免除以零错误，添加一个极小正值\n",
    "  r = r1 / r2 * np.where(sign, 1.0, 0.0)\n",
    "  return (np.abs(r)+r)/(np.abs(r)+1)\n",
    "\n",
    "\n",
    "@Limiting\n",
    "def Minmod(r1,r2):\n",
    "  sign = (r1*r2) > 0\n",
    "  isZ = (r2 == 0)\n",
    "  r2 = r2 + isZ * 1e-10  # 避免除以零错误，添加一个极小正值\n",
    "  r = r1 / r2 * np.where(sign, 1.0, 0.0)\n",
    "  return np.where(r < 1.0, r, 0.0)\n",
    "\n",
    "\n",
    "@Limiting\n",
    "def WENO5_FD(S):\n",
    "  eps = 1e-6\n",
    "  V3 = ( 3.0*S[2] +  6.0*S[3] -  1.0*S[4])*0.125\n",
    "  V2 = (-1.0*S[1] +  6.0*S[2] +  3.0*S[3])*0.125\n",
    "  V1 = ( 3.0*S[0] - 10.0*S[1] + 15.0*S[2])*0.125\n",
    "  B3 = 13.0/12.0*(S[2]-2.0*S[3]+S[4])**2+0.25*(3.0*S[2]-4.0*S[3]+S[4])**2\n",
    "  B2 = 13.0/12.0*(S[1]-2.0*S[2]+S[3])**2+0.25*(S[1]-1.0*S[3])**2\n",
    "  B1 = 13.0/12.0*(S[0]-2.0*S[1]+S[2])**2+0.25*(3.0*S[2]-4.0*S[1]+S[0])**2\n",
    "  A3 = 0.3125/((eps+B3)**2)\n",
    "  A2 = 0.625 /((eps+B2)**2)\n",
    "  A1 = 0.0625/((eps+B1)**2)\n",
    "  return (A1*V1+A2*V2+A3*V3)/(A1+A2+A3)\n",
    "\n",
    "\n",
    "@Limiting\n",
    "def WENO5_FV(S):\n",
    "  eps = 1e-6\n",
    "  h = 1.0/6.0\n",
    "  V3 = ( 2.0*S[2] + 5.0*S[3] -  1.0*S[4])*h\n",
    "  V2 = (-1.0*S[1] + 5.0*S[2] +  2.0*S[3])*h\n",
    "  V1 = ( 2.0*S[0] - 7.0*S[1] + 11.0*S[2])*h\n",
    "  B3 = 13.0/12.0*(S[2]-2.0*S[3]+S[4])**2+0.25*(3.0*S[2]-4.0*S[3]+S[4])**2\n",
    "  B2 = 13.0/12.0*(S[1]-2.0*S[2]+S[3])**2+0.25*(S[1]-1.0*S[3])**2\n",
    "  B1 = 13.0/12.0*(S[0]-2.0*S[1]+S[2])**2+0.25*(3.0*S[2]-4.0*S[1]+S[0])**2\n",
    "  A3 = 0.3/((eps+B3)**2)\n",
    "  A2 = 0.6/((eps+B2)**2)\n",
    "  A1 = 0.1/((eps+B1)**2)\n",
    "  return (A1*V1+A2*V2+A3*V3)/(A1+A2+A3)"
   ]
  },
  {
   "cell_type": "code",
   "execution_count": 63,
   "metadata": {},
   "outputs": [
    {
     "name": "stdout",
     "output_type": "stream",
     "text": [
      "[0.  0.1 0.2 0.3 0.4 0.5 0.6 0.7 0.8 0.9 1. ]\n",
      "[0.8 0.9 1.  0.  0.1 0.2 0.3 0.4 0.5 0.6 0.7 0.8 0.9 1.  0.  0.1 0.2]\n",
      "[0.8 0.9 1.  0.  0.1]\n",
      "[0.2 0.1 0.  1.  0.9]\n",
      "[0.8 0.9 1.  0.  0.1]\n",
      "[0.2 0.1 0.  1.  0.9]\n",
      "0\n",
      "1\n",
      "2\n"
     ]
    }
   ],
   "source": [
    "arr = np.linspace(0,1,11)\n",
    "Nb = arr.shape[0]+1\n",
    "print(arr)\n",
    "arr1 = np.concatenate((arr[-3:],arr,arr[:3]))\n",
    "print(arr1)\n",
    "\n",
    "j = 0\n",
    "print(arr1[j:j+5])\n",
    "print(arr1[j+5:j:-1])\n",
    "\n",
    "j = Nb - 1\n",
    "print(arr1[j:j+5])\n",
    "print(arr1[j+5:j:-1])\n",
    "\n",
    "for j in range(0, 4-1):\n",
    "  print(j)"
   ]
  },
  {
   "cell_type": "markdown",
   "metadata": {},
   "source": [
    "### 通量"
   ]
  },
  {
   "cell_type": "code",
   "execution_count": 64,
   "metadata": {},
   "outputs": [],
   "source": [
    "def Fluxing(Fluxer,*args):\n",
    "  def warpper(*args):\n",
    "    return Fluxer(*args)\n",
    "  return warpper\n",
    "\n",
    "\n",
    "@Fluxing\n",
    "def Burgers(UL,UR,a):\n",
    "  return 0.25*(UL**2+UR**2+np.abs(UL+UR)*(UL-UR))\n",
    "\n",
    "\n",
    "@Fluxing\n",
    "def Advection(UL,UR,a):\n",
    "  return (a>0)*a*UL + (a<0)*a*UR"
   ]
  },
  {
   "cell_type": "markdown",
   "metadata": {},
   "source": [
    "## 初始化"
   ]
  },
  {
   "cell_type": "markdown",
   "metadata": {},
   "source": [
    "### 输入参数"
   ]
  },
  {
   "cell_type": "code",
   "execution_count": 65,
   "metadata": {},
   "outputs": [],
   "source": [
    "N = 200\n",
    "TotalTime = 1.0\n",
    "a0 = 1\n",
    "CFL = 0.7\n",
    "\n",
    "# MUSCL, REC_WENO\n",
    "Schemer = REC_WENO\n",
    "\n",
    "# VanLeer, Minmod, None, WENO5_FD, WENO5_FV\n",
    "Limiter = WENO5_FV\n",
    "\n",
    "# Burgers, Advection\n",
    "Fluxer = Advection\n",
    "\n",
    "# 'Periodic'\n",
    "Boundary = 'Periodic'"
   ]
  },
  {
   "cell_type": "markdown",
   "metadata": {},
   "source": [
    "### 初始化——全局信息"
   ]
  },
  {
   "cell_type": "markdown",
   "metadata": {},
   "source": [
    "定义物理常数"
   ]
  },
  {
   "cell_type": "code",
   "execution_count": 66,
   "metadata": {},
   "outputs": [],
   "source": [
    "m0       = 9.1094e-31       # kg\n",
    "e0       = 1.6021892e-19    # C\n",
    "n0       = 1.0e19           # m^-3\n",
    "tem0     = 1.0              # keV\n",
    "epsilon0 = 8.854187817e-12  # F/m\n",
    "B0       = 1.0              # T\n",
    "mp       = 1.6726485e-27    # kg"
   ]
  },
  {
   "cell_type": "markdown",
   "metadata": {},
   "source": [
    "初始化归一"
   ]
  },
  {
   "cell_type": "code",
   "execution_count": null,
   "metadata": {},
   "outputs": [],
   "source": []
  },
  {
   "cell_type": "markdown",
   "metadata": {},
   "source": [
    "初始化网格"
   ]
  },
  {
   "cell_type": "code",
   "execution_count": 67,
   "metadata": {},
   "outputs": [],
   "source": [
    "X = np.linspace(0.0,1.0,N+1)\n",
    "XC = 0.5*(X[1:]+X[:-1])\n",
    "\n",
    "dx = X[1]-X[0]\n",
    "hx = 1.0/dx"
   ]
  },
  {
   "cell_type": "markdown",
   "metadata": {},
   "source": [
    "初始化扰动"
   ]
  },
  {
   "cell_type": "code",
   "execution_count": 68,
   "metadata": {},
   "outputs": [],
   "source": [
    "#U0 = np.sin(XC*2.0*np.pi+0.0)\n",
    "U0 = np.where((XC>=0.3) & (XC<=0.7),\n",
    "        1.0,\n",
    "        0.0)"
   ]
  },
  {
   "cell_type": "markdown",
   "metadata": {},
   "source": [
    "## 第0步计算"
   ]
  },
  {
   "cell_type": "code",
   "execution_count": 69,
   "metadata": {},
   "outputs": [],
   "source": [
    "U = U0\n",
    "tnow = 0.0\n",
    "counter = 0"
   ]
  },
  {
   "cell_type": "markdown",
   "metadata": {},
   "source": [
    "## 主循环"
   ]
  },
  {
   "cell_type": "code",
   "execution_count": 70,
   "metadata": {},
   "outputs": [
    {
     "name": "stdout",
     "output_type": "stream",
     "text": [
      "counter = 286\n",
      "\n"
     ]
    }
   ],
   "source": [
    "while tnow < TotalTime:\n",
    "  dt = CFL*dx/np.abs(a0)\n",
    "  dt = min(TotalTime-tnow,dt)\n",
    "    \n",
    "  Un = U.copy()\n",
    "\n",
    "  '3rd-order TVD Runge-Kutta time scheme'\n",
    "  for k in range(1, 4):\n",
    "    UL,UR = Scheming(Schemer)(U,Boundary,Limiter)\n",
    "    Flux = Fluxing(Fluxer)(UL,UR,a0)\n",
    "    dU = (Flux[:-1]-Flux[1:])*hx\n",
    "\n",
    "    if k == 1:\n",
    "      U = Un + dU*dt\n",
    "    elif k == 2:\n",
    "        U = 0.75*Un+0.25*(U+dt*dU)\n",
    "    else:\n",
    "        U = 1/3*Un+2/3*(U+dt*dU)\n",
    "\n",
    "  tnow += dt\n",
    "  counter += 1\n",
    "\n",
    "\n",
    "print(f'counter = {counter}\\n')"
   ]
  },
  {
   "cell_type": "markdown",
   "metadata": {},
   "source": [
    "## Plot"
   ]
  },
  {
   "cell_type": "code",
   "execution_count": 71,
   "metadata": {},
   "outputs": [
    {
     "data": {
      "text/plain": [
       "<matplotlib.legend.Legend at 0x2075098baf0>"
      ]
     },
     "execution_count": 71,
     "metadata": {},
     "output_type": "execute_result"
    },
    {
     "data": {
      "image/png": "[encoded data removed]",
      "text/plain": [
       "<Figure size 640x480 with 1 Axes>"
      ]
     },
     "metadata": {},
     "output_type": "display_data"
    }
   ],
   "source": [
    "fig, ax1 = plt.subplots()\n",
    "ax1.plot(XC,U0,color='blue',linestyle='--',label='Original')\n",
    "ax1.plot(XC,U ,color='red',linestyle='-',label='Evolved')\n",
    "ax1.set_xlabel('$k_0 x / 2\\pi$',color='black')\n",
    "ax1.set_ylabel('$\\delta\\phi$',color='black')\n",
    "ax1.tick_params(axis='y', color='black')\n",
    "ax1.legend(loc = 'upper right')\n",
    "#ax1.legend(loc = 'lower left')\n",
    "#ax1.legend(loc = 'upper left')"
   ]
  }
 ],
 "metadata": {
  "kernelspec": {
   "display_name": "Python 3",
   "language": "python",
   "name": "python3"
  },
  "language_info": {
   "codemirror_mode": {
    "name": "ipython",
    "version": 3
   },
   "file_extension": ".py",
   "mimetype": "text/x-python",
   "name": "python",
   "nbconvert_exporter": "python",
   "pygments_lexer": "ipython3",
   "version": "3.10.7"
  }
 },
 "nbformat": 4,
 "nbformat_minor": 2
}
