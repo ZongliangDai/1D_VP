{
 "cells": [
  {
   "cell_type": "markdown",
   "metadata": {},
   "source": [
    "# FVM1D"
   ]
  },
  {
   "cell_type": "markdown",
   "metadata": {},
   "source": [
    "## 输入库"
   ]
  },
  {
   "cell_type": "code",
   "execution_count": 1,
   "metadata": {},
   "outputs": [],
   "source": [
    "import numpy as np\n",
    "import time\n",
    "import matplotlib.pyplot as plt\n",
    "import os\n",
    "import shutil\n",
    "#import matplotlib.gridspec as gridspec"
   ]
  },
  {
   "cell_type": "markdown",
   "metadata": {},
   "source": [
    "## 功能函数"
   ]
  },
  {
   "cell_type": "markdown",
   "metadata": {},
   "source": [
    "### 格式"
   ]
  },
  {
   "cell_type": "code",
   "execution_count": 2,
   "metadata": {},
   "outputs": [],
   "source": [
    "def REC_WENO(U,bc,Limiter):\n",
    "  Nb = U.shape[0] + 1\n",
    "  UL = np.zeros((Nb))\n",
    "  UR = np.zeros((Nb))\n",
    "\n",
    "  if bc == 'Periodic':\n",
    "    UE = np.concatenate((U[-3:],U,U[:3]))\n",
    "  else:\n",
    "    ones = np.ones((3))\n",
    "    UE = np.concatenate((U[0]*ones,U,U[-1:]*ones))\n",
    "\n",
    "  WENO5 = WENO5_FD if Limiter == 'WENO5_FD' else WENO5_FV\n",
    "  for j in range(0, Nb-1):\n",
    "    UL[j] = WENO5(UE[j:j+5])\n",
    "    UR[j] = WENO5(UE[j+5:j:-1])\n",
    "  return UL,UR"
   ]
  },
  {
   "cell_type": "code",
   "execution_count": 3,
   "metadata": {},
   "outputs": [
    {
     "name": "stdout",
     "output_type": "stream",
     "text": [
      "[0.  0.1 0.2 0.3 0.4 0.5 0.6 0.7 0.8 0.9 1. ]\n",
      "[0.8 0.9 1.  0.  0.1 0.2 0.3 0.4 0.5 0.6 0.7 0.8 0.9 1.  0.  0.1 0.2]\n",
      "[0.8 0.9 1.  0.  0.1]\n",
      "[0.2 0.1 0.  1.  0.9]\n",
      "[0.8 0.9 1.  0.  0.1]\n",
      "[0.2 0.1 0.  1.  0.9]\n",
      "[0.1 0.2 0.3 0.4 0.5]\n",
      "[0.6 0.5 0.4 0.3 0.2]\n"
     ]
    }
   ],
   "source": [
    "arr = np.linspace(0,1,11)\n",
    "Nb = arr.shape[0]+1\n",
    "print(arr)\n",
    "arr1 = np.concatenate((arr[-3:],arr,arr[:3]))\n",
    "print(arr1)\n",
    "j = 0\n",
    "print(arr1[j:j+5])\n",
    "print(arr1[j+5:j:-1])\n",
    "\n",
    "j = Nb - 1\n",
    "print(arr1[j:j+5])\n",
    "print(arr1[j+5:j:-1])\n",
    "\n",
    "\n",
    "j = 4\n",
    "print(arr1[j:j+5])\n",
    "print(arr1[j+5:j:-1])"
   ]
  },
  {
   "cell_type": "code",
   "execution_count": 4,
   "metadata": {},
   "outputs": [],
   "source": [
    "def MUSCL(UA, boundary, Limiter):\n",
    "  if boundary == 'Periodic':\n",
    "    UAE = np.concatenate(([UA[-1]],UA,[UA[0]]))\n",
    "  else:\n",
    "    UAE = np.concatenate(([UA[0]],UA,[UA[-1]]))\n",
    "\n",
    "  DU = UAE[1:] - 1.0*UAE[:-1]\n",
    "  #DU = (UAE.astype(int)[1:] ^ UAE.astype(int)[:-1]).astype(bool)\n",
    "\n",
    "\n",
    "  UL = UA + 0.5*DU[1:]*Limiting(DU[:-1],DU[1:],Limiter)\n",
    "  UR = UA - 0.5*DU[:-1]*Limiting(DU[1:],DU[:-1],Limiter)\n",
    "\n",
    "  if boundary == 'Periodic':\n",
    "    UL = np.concatenate((UL[-1:],UL))\n",
    "    UR = np.concatenate((UR,[UR[0]]))\n",
    "  else:\n",
    "    UL = np.concatenate(([UL[0]],UL))\n",
    "    UR = np.concatenate((UR,[UR[-1]]))\n",
    "\n",
    "  return UL,UR"
   ]
  },
  {
   "cell_type": "markdown",
   "metadata": {},
   "source": [
    "### 限制器"
   ]
  },
  {
   "cell_type": "code",
   "execution_count": 5,
   "metadata": {},
   "outputs": [],
   "source": [
    "def Limiting(r1,r2,Limiter):\n",
    "  sign = (r1*r2) > 0\n",
    "  isZ = (r2 == 0)\n",
    "  r2 = r2 + isZ * 1e-10  # 避免除以零错误，添加一个极小正值\n",
    "  r = r1 / r2 * np.where(sign, 1.0, 0.0)\n",
    "  return Limiters(r,Limiter)\n",
    "\n",
    "\n",
    "def Limiters(r,Limiter):\n",
    "  Limiters_dict = {\n",
    "    'VanLeer': lambda r:\n",
    "        (np.abs(r) + r) / (np.abs(r) + 1),\n",
    "    'minmod': lambda r:\n",
    "        np.where(r < 1.0, r, 0.0) }\n",
    "  return Limiters_dict.get(Limiter,lambda r:1.0)(r)\n",
    "\n",
    "\n",
    "def WENO5_FD(S):\n",
    "  eps = 1e-6\n",
    "  V3 = ( 3.0*S[2] +  6.0*S[3] -  1.0*S[4])*0.125\n",
    "  V2 = (-1.0*S[1] +  6.0*S[2] +  3.0*S[3])*0.125\n",
    "  V1 = ( 3.0*S[0] - 10.0*S[1] + 15.0*S[2])*0.125\n",
    "  B3 = 13.0/12.0*(S[2]-2.0*S[3]+S[4])**2+0.25*(3.0*S[2]-4.0*S[3]+S[4])**2\n",
    "  B2 = 13.0/12.0*(S[1]-2.0*S[2]+S[3])**2+0.25*(S[1]-1.0*S[3])**2\n",
    "  B1 = 13.0/12.0*(S[0]-2.0*S[1]+S[2])**2+0.25*(3.0*S[2]-4.0*S[1]+S[0])**2\n",
    "  A3 = 0.3125/((eps+B3)**2)\n",
    "  A2 = 0.625 /((eps+B2)**2)\n",
    "  A1 = 0.0625/((eps+B1)**2)\n",
    "  W = A1+A2+A3\n",
    "  W1 = A1/W\n",
    "  W2 = A2/W\n",
    "  W3 = A3/W\n",
    "  return W1*V1+W2*V2+W3*V3\n",
    "\n",
    "\n",
    "def WENO5_FV(S):\n",
    "  eps = 1e-6\n",
    "  h = 1.0/6.0\n",
    "  V3 = ( 2.0*S[2] + 5.0*S[3] -  1.0*S[4])*h\n",
    "  V2 = (-1.0*S[1] + 5.0*S[2] +  2.0*S[3])*h\n",
    "  V1 = ( 2.0*S[0] - 7.0*S[1] + 11.0*S[2])*h\n",
    "  B3 = 13.0/12.0*(S[2]-2.0*S[3]+S[4])**2+0.25*(3.0*S[2]-4.0*S[3]+S[4])**2\n",
    "  B2 = 13.0/12.0*(S[1]-2.0*S[2]+S[3])**2+0.25*(S[1]-1.0*S[3])**2\n",
    "  B1 = 13.0/12.0*(S[0]-2.0*S[1]+S[2])**2+0.25*(3.0*S[2]-4.0*S[1]+S[0])**2\n",
    "  A3 = 0.3/((eps+B3)**2)\n",
    "  A2 = 0.6/((eps+B2)**2)\n",
    "  A1 = 0.1/((eps+B1)**2)\n",
    "  W = A1+A2+A3\n",
    "  W1 = A1/W\n",
    "  W2 = A2/W\n",
    "  W3 = A3/W\n",
    "  return W1*V1 + W2*V2 + W3*V3"
   ]
  },
  {
   "cell_type": "markdown",
   "metadata": {},
   "source": [
    "### 通量"
   ]
  },
  {
   "cell_type": "code",
   "execution_count": 6,
   "metadata": {},
   "outputs": [],
   "source": [
    "def Fluxing(UL,UR,a,Type):\n",
    "  Flux_dict = {\n",
    "    'Burgers': lambda UL,UR,a:\n",
    "        0.25*(UL**2+UR**2+np.abs(UL+UR)*(UL-UR)),\n",
    "    'Advection': lambda UL,UR,a:\n",
    "        (a>0)*a*UL + (a<0)*a*UR }\n",
    "  return Flux_dict.get(Type,lambda UL,UR,a:0.0)(UL,UR,a)"
   ]
  },
  {
   "cell_type": "markdown",
   "metadata": {},
   "source": [
    "## 初始化"
   ]
  },
  {
   "cell_type": "markdown",
   "metadata": {},
   "source": [
    "### 输入参数"
   ]
  },
  {
   "cell_type": "code",
   "execution_count": 7,
   "metadata": {},
   "outputs": [],
   "source": [
    "N = 200\n",
    "TotalTime = 1.0\n",
    "a0 = 1\n",
    "CFL = 0.7\n",
    "\n",
    "# 'MUSCL', 'REC_WENO'\n",
    "Scheme = 'REC_WENO'\n",
    "\n",
    "# 'VanLeer', 'minmod', 'None', 'WENO5_FD', 'WENO5_FV'\n",
    "Limiter  = 'WENO5_FD'\n",
    "\n",
    "# 'Burgers', 'Advection'\n",
    "FluxType = 'Advection'\n",
    "\n",
    "# 'Periodic'\n",
    "Boundary = 'Periodic'"
   ]
  },
  {
   "cell_type": "markdown",
   "metadata": {},
   "source": [
    "### 初始化——全局信息"
   ]
  },
  {
   "cell_type": "markdown",
   "metadata": {},
   "source": [
    "定义物理常数"
   ]
  },
  {
   "cell_type": "code",
   "execution_count": 8,
   "metadata": {},
   "outputs": [],
   "source": [
    "m0       = 9.1094e-31       # kg\n",
    "e0       = 1.6021892e-19    # C\n",
    "n0       = 1.0e19           # m^-3\n",
    "tem0     = 1.0              # keV\n",
    "epsilon0 = 8.854187817e-12  # F/m\n",
    "B0       = 1.0              # T\n",
    "mp       = 1.6726485e-27    # kg"
   ]
  },
  {
   "cell_type": "markdown",
   "metadata": {},
   "source": [
    "初始化归一"
   ]
  },
  {
   "cell_type": "code",
   "execution_count": null,
   "metadata": {},
   "outputs": [],
   "source": []
  },
  {
   "cell_type": "markdown",
   "metadata": {},
   "source": [
    "初始化网格"
   ]
  },
  {
   "cell_type": "code",
   "execution_count": 9,
   "metadata": {},
   "outputs": [],
   "source": [
    "X = np.linspace(0.0,1.0,N+1)\n",
    "XC = 0.5*(X[1:]+X[:-1])\n",
    "\n",
    "dx = X[1]-X[0]\n",
    "hx = 1.0/dx"
   ]
  },
  {
   "cell_type": "markdown",
   "metadata": {},
   "source": [
    "初始化扰动"
   ]
  },
  {
   "cell_type": "code",
   "execution_count": 10,
   "metadata": {},
   "outputs": [],
   "source": [
    "U0 = np.sin(XC*2.0*np.pi+0.0)\n",
    "#U0 = (XC>=0.3) & (XC<=0.7)"
   ]
  },
  {
   "cell_type": "markdown",
   "metadata": {},
   "source": [
    "## 第0步计算"
   ]
  },
  {
   "cell_type": "code",
   "execution_count": 11,
   "metadata": {},
   "outputs": [],
   "source": [
    "U = U0\n",
    "tnow = 0.0\n",
    "counter = 0"
   ]
  },
  {
   "cell_type": "markdown",
   "metadata": {},
   "source": [
    "## 主循环"
   ]
  },
  {
   "cell_type": "code",
   "execution_count": 12,
   "metadata": {},
   "outputs": [
    {
     "name": "stdout",
     "output_type": "stream",
     "text": [
      "counter = 286\n",
      "\n"
     ]
    }
   ],
   "source": [
    "if Scheme == 'MUSCL':\n",
    "  Push = MUSCL\n",
    "elif Scheme == 'REC_WENO':\n",
    "  Push = REC_WENO\n",
    "\n",
    "while tnow < TotalTime:\n",
    "  dt = CFL*dx/np.abs(a0)\n",
    "  dt = min(TotalTime-tnow,dt)\n",
    "    \n",
    "  Un = U.copy()\n",
    "\n",
    "  '3rd-order TVD Runge-Kutta time scheme'\n",
    "  for k in range(1, 4):\n",
    "    UL,UR = Push(U,Boundary,Limiter)\n",
    "    Flux = Fluxing(UL,UR,a0,FluxType)\n",
    "    dU = (Flux[:-1]-Flux[1:])*hx\n",
    "\n",
    "    if k == 1:\n",
    "      U = Un + dU*dt\n",
    "    elif k == 2:\n",
    "        U = 0.75*Un+0.25*(U+dt*dU)\n",
    "    else:\n",
    "        U = 1/3*Un+2/3*(U+dt*dU)\n",
    "\n",
    "  tnow += dt\n",
    "  counter += 1\n",
    "\n",
    "\n",
    "print(f'counter = {counter}\\n')"
   ]
  },
  {
   "cell_type": "markdown",
   "metadata": {},
   "source": [
    "## Plot"
   ]
  },
  {
   "cell_type": "code",
   "execution_count": 13,
   "metadata": {},
   "outputs": [
    {
     "data": {
      "text/plain": [
       "<matplotlib.legend.Legend at 0x14f9a4a7f70>"
      ]
     },
     "execution_count": 13,
     "metadata": {},
     "output_type": "execute_result"
    },
    {
     "data": {
      "image/png": "[encoded data removed]",
      "text/plain": [
       "<Figure size 640x480 with 1 Axes>"
      ]
     },
     "metadata": {},
     "output_type": "display_data"
    }
   ],
   "source": [
    "fig, ax1 = plt.subplots()\n",
    "ax1.plot(XC,U0,color='blue',linestyle='--',label='Original')\n",
    "ax1.plot(XC,U ,color='red',linestyle='-',label='Evolved')\n",
    "ax1.set_xlabel('$k_0 x / 2\\pi$',color='black')\n",
    "ax1.set_ylabel('$\\delta\\phi$',color='black')\n",
    "ax1.tick_params(axis='y', color='black')\n",
    "ax1.legend(loc = 'upper right')\n",
    "#ax1.legend(loc = 'lower left')\n",
    "#ax1.legend(loc = 'upper left')"
   ]
  }
 ],
 "metadata": {
  "kernelspec": {
   "display_name": "Python 3",
   "language": "python",
   "name": "python3"
  },
  "language_info": {
   "codemirror_mode": {
    "name": "ipython",
    "version": 3
   },
   "file_extension": ".py",
   "mimetype": "text/x-python",
   "name": "python",
   "nbconvert_exporter": "python",
   "pygments_lexer": "ipython3",
   "version": "3.10.7"
  }
 },
 "nbformat": 4,
 "nbformat_minor": 2
}
