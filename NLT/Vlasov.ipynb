{
 "cells": [
  {
   "cell_type": "markdown",
   "metadata": {},
   "source": [
    "## 输入库"
   ]
  },
  {
   "cell_type": "code",
   "execution_count": 1,
   "metadata": {},
   "outputs": [],
   "source": [
    "import numpy as np\n",
    "import time\n",
    "import matplotlib.pyplot as plt\n",
    "import os\n",
    "import shutil\n",
    "import matplotlib.gridspec as gridspec"
   ]
  },
  {
   "cell_type": "markdown",
   "metadata": {},
   "source": [
    "## 功能函数"
   ]
  },
  {
   "cell_type": "markdown",
   "metadata": {},
   "source": [
    "### 傅里叶变换"
   ]
  },
  {
   "cell_type": "code",
   "execution_count": 2,
   "metadata": {},
   "outputs": [],
   "source": [
    "def f2fk(f,NumK):\n",
    "  NumX = f.shape[0]\n",
    "  fk_ex = np.fft.ifft(f, axis=0)\n",
    "  fk = np.conj(fk_ex[:NumK,:])\n",
    "  return fk\n",
    "\n",
    "def fk2f(fk,NumX):\n",
    "  NumK,NumV = fk.shape\n",
    "  fk_ex = np.zeros((NumX,NumV), dtype=complex)\n",
    "  fk_ex[:NumK,:] = fk*NumX\n",
    "  fk_ex[-1:-NumK:-1,:] = np.conj((fk[1:NumK,:])*NumX)\n",
    "  f = np.real(np.fft.ifft(fk_ex, axis=0))\n",
    "  return f"
   ]
  },
  {
   "cell_type": "markdown",
   "metadata": {},
   "source": [
    "### 未扰动演化"
   ]
  },
  {
   "cell_type": "code",
   "execution_count": 3,
   "metadata": {},
   "outputs": [],
   "source": [
    "def Upd(PreOrCor,UpdPhase,dfk0):\n",
    "  dfk = dfk0*UpdPhase[:,:,PreOrCor]\n",
    "  return(dfk)"
   ]
  },
  {
   "cell_type": "markdown",
   "metadata": {},
   "source": [
    "### 拉回变换"
   ]
  },
  {
   "cell_type": "code",
   "execution_count": 4,
   "metadata": {},
   "outputs": [],
   "source": [
    "def PullBack(FlagNL,PreOrCor,phikT,Gkx_phik,Gkv_phik,dvF0,dfk,k,hv):\n",
    "  n = 1 if PreOrCor else 0\n",
    "\n",
    "  Gkv = Gkv_phik[:,:,n]*phikT\n",
    "\n",
    "  if not FlagNL:\n",
    "    dfk += Gkv*dvF0\n",
    "  else:\n",
    "    Gkx = Gkx_phik[:,:,n]*phikT\n",
    "\n",
    "    Gx = fk2f(Gkx,Nx)\n",
    "    Gv = fk2f(Gkv,Nx)\n",
    "\n",
    "    'Nonlinear Terms dfa = G*d(df+F0)'\n",
    "    dfkdx = 1j*k*dfk\n",
    "    dfkdv = np.zeros_like(dfk)\n",
    "    dfkdv[:,0] = (dfk[:,1]-dfk[:,0])*hv\n",
    "    dfkdv[:,1:-1] = (dfk[:,2:]-dfk[:,:-2])*0.5*hv\n",
    "    dfkdv[:,-1] = (dfk[:,-1]-dfk[:,-2])*hv\n",
    "    dfkdv[0,:] += dvF0[0,:]\n",
    "    dfdx = fk2f(dfkdx,Nx)\n",
    "    dfdv = fk2f(dfkdv,Nx)\n",
    "    dfa = Gx*dfdx + Gv*dfdv\n",
    "    dfka = f2fk(dfa,Nk)\n",
    "    \n",
    "    'Nonlinear Terms dfa = G*d(G*d(F0+df))'\n",
    "    dfkdx = 1j*k*dfka\n",
    "    dfkdv[:,0] = (dfka[:,1]-dfka[:,0])*hv\n",
    "    dfkdv[:,1:-1] = (dfka[:,2:]-dfka[:,:-2])*0.5*hv\n",
    "    dfkdv[:,-1] = (dfka[:,-1]-dfka[:,-2])*hv\n",
    "    dfdx = fk2f(dfkdx,Nx)\n",
    "    dfdv = fk2f(dfkdv,Nx)\n",
    "    dfb = 0.5*(Gx*dfdx + Gv*dfdv)\n",
    "    dfkb = f2fk(dfb,Nk)\n",
    "\n",
    "    dfk += dfka + dfkb\n",
    "  return(dfk)"
   ]
  },
  {
   "cell_type": "markdown",
   "metadata": {},
   "source": [
    "### 场方程"
   ]
  },
  {
   "cell_type": "code",
   "execution_count": 5,
   "metadata": {},
   "outputs": [],
   "source": [
    "def Field(dfk,e,k,dv,eps):\n",
    "  dNek = np.sum(dfk,axis=1).reshape(-1,1)*dv\n",
    "  phik = np.where( k < 0.1*k[1,0],\n",
    "    0.0,\n",
    "    e*dNek/(eps*k*k))\n",
    "  return(phik)"
   ]
  },
  {
   "cell_type": "markdown",
   "metadata": {},
   "source": [
    "### 诊断"
   ]
  },
  {
   "cell_type": "code",
   "execution_count": 6,
   "metadata": {},
   "outputs": [],
   "source": [
    "def Diagnoses(t,phik,dfk,k0):\n",
    "  with open('Output/TimeList.dat','a') as file:\n",
    "    file.write(f'{t}\\n')\n",
    "\n",
    "  phi = fk2f(phik,Nx)\n",
    "  #ene = 0.5*eps*np.sum(phi**2)*dx\n",
    "  ene = np.sum(np.abs(phik)**2)*np.pi/k0\n",
    "  with open('Output/energy.dat','a') as file:\n",
    "    file.write(f'{ene}\\n')\n",
    "\n",
    "  with open('Output/phi.dat', 'ab') as f:\n",
    "    phi.tofile(f)\n",
    "  with open('Output/phik.dat', 'ab') as f:\n",
    "    abs(phik).tofile(f)\n",
    "  with open('Output/fa.dat', 'ab') as f:\n",
    "    abs(dfk[0,:]).tofile(f)"
   ]
  },
  {
   "cell_type": "markdown",
   "metadata": {},
   "source": [
    "## 初始化"
   ]
  },
  {
   "cell_type": "markdown",
   "metadata": {},
   "source": [
    "### 设置输入参数"
   ]
  },
  {
   "cell_type": "code",
   "execution_count": 7,
   "metadata": {},
   "outputs": [],
   "source": [
    "m   =  1.0\n",
    "e   = -1.0\n",
    "n   =  1.0\n",
    "tem =  1.0\n",
    "\n",
    "FlagPhi0 = False\n",
    "FlagPhi1 = True\n",
    "FlagNL   = True\n",
    "\n",
    "TotalTime = 200.0\n",
    "dt        = 0.1\n",
    "nDiag     = 500\n",
    "MaxStep   = 20000\n",
    "\n",
    "Nk   = 32\n",
    "Nv   = 513\n",
    "vMax = 6.0\n",
    "\n",
    "phi0A      = 0.0\n",
    "phi0Lambda = 10.0\n",
    "k0         = 0.4\n",
    "delta      = 0.05"
   ]
  },
  {
   "cell_type": "markdown",
   "metadata": {},
   "source": [
    "### 初始化——全局信息"
   ]
  },
  {
   "cell_type": "markdown",
   "metadata": {},
   "source": [
    "定义物理常数"
   ]
  },
  {
   "cell_type": "code",
   "execution_count": 8,
   "metadata": {},
   "outputs": [],
   "source": [
    "m0       = 9.1094e-31       # kg\n",
    "e0       = 1.6021892e-19    # C\n",
    "n0       = 1.0e19           # m^-3\n",
    "tem0     = 1.0              # keV\n",
    "epsilon0 = 8.854187817e-12  # F/m\n",
    "B0       = 1.0              # T\n",
    "mp       = 1.6726485e-27    # kg"
   ]
  },
  {
   "cell_type": "markdown",
   "metadata": {},
   "source": [
    "初始化归一"
   ]
  },
  {
   "cell_type": "code",
   "execution_count": 9,
   "metadata": {},
   "outputs": [],
   "source": [
    "mRef = m0\n",
    "eRef = e0\n",
    "nRef = n0\n",
    "temRef = tem0*1000.0*e0\n",
    "\n",
    "vRef = np.sqrt(temRef/mRef)\n",
    "tRef = np.sqrt(epsilon0*mRef/(nRef*eRef*eRef))\n",
    "xRef = vRef*tRef"
   ]
  },
  {
   "cell_type": "markdown",
   "metadata": {},
   "source": [
    "初始化扰动"
   ]
  },
  {
   "cell_type": "code",
   "execution_count": 10,
   "metadata": {},
   "outputs": [],
   "source": [
    "phi0A = phi0A*1000.0*e0/temRef\n",
    "#k0 = 2.0*np.pi*xRef/phi0Lambda\n",
    "#k0 = 0.4\n",
    "\n",
    "cPhi0 = 1.0 if FlagPhi0 else 0.0\n",
    "cPhi1 = 1.0 if FlagPhi1 else 0.0\n",
    "FlagCor = False\n",
    "\n",
    "em = e/m\n",
    "eps = 1.0"
   ]
  },
  {
   "cell_type": "markdown",
   "metadata": {},
   "source": [
    "初始化网格"
   ]
  },
  {
   "cell_type": "code",
   "execution_count": 11,
   "metadata": {},
   "outputs": [],
   "source": [
    "k = np.arange(Nk).reshape(-1,1)*k0\n",
    "\n",
    "Nx = 4*Nk\n",
    "NkF = Nx/2 + 1\n",
    "dx = 2.0*np.pi/(k0*Nx)\n",
    "x = np.arange(Nx).reshape(-1,1)*dx\n",
    "\n",
    "dv = 2.0*vMax/(Nv-1)\n",
    "hv = 1.0/dv\n",
    "v = np.arange(Nv).reshape(1,-1)*dv - vMax"
   ]
  },
  {
   "cell_type": "markdown",
   "metadata": {},
   "source": [
    "初始化$F_0$"
   ]
  },
  {
   "cell_type": "code",
   "execution_count": 12,
   "metadata": {},
   "outputs": [],
   "source": [
    "F0 = np.sqrt(m/(2.0*np.pi*tem))*np.exp(-0.5*m*v**2/tem)\n",
    "\n",
    "dvF0 = np.zeros_like(F0)\n",
    "dvF0[0,0] = (F0[0,1]-F0[0,0])*hv\n",
    "dvF0[0,1:-1] = (F0[0,2:]-F0[0,:-2])*0.5*hv\n",
    "dvF0[0,-1] = (F0[0,-1]-F0[0,-2])*hv"
   ]
  },
  {
   "cell_type": "markdown",
   "metadata": {},
   "source": [
    "初始化$\\phi_0$"
   ]
  },
  {
   "cell_type": "code",
   "execution_count": 13,
   "metadata": {},
   "outputs": [],
   "source": [
    "phi0k = np.zeros_like(k)\n",
    "phi0k[1,0] = 0.5*phi0A\n",
    "phi0 = fk2f(phi0k,Nx)"
   ]
  },
  {
   "cell_type": "markdown",
   "metadata": {},
   "source": [
    "输出$\\phi_0\\left(x\\right)$"
   ]
  },
  {
   "cell_type": "code",
   "execution_count": 15,
   "metadata": {},
   "outputs": [
    {
     "data": {
      "text/plain": [
       "<matplotlib.legend.Legend at 0x209d28a8dd0>"
      ]
     },
     "execution_count": 15,
     "metadata": {},
     "output_type": "execute_result"
    },
    {
     "data": {
      "image/png": "[encoded data removed]",
      "text/plain": [
       "<Figure size 640x480 with 1 Axes>"
      ]
     },
     "metadata": {},
     "output_type": "display_data"
    }
   ],
   "source": [
    "fig, ax1 = plt.subplots()\n",
    "ax1.plot(k0*x/(2.0*np.pi),phi0,color='red',label='Difference')\n",
    "ax1.set_xlabel('$k_0 x / 2\\\\pi$',color='black')\n",
    "ax1.set_ylabel('$\\\\phi_0$',color='black')\n",
    "ax1.tick_params(axis='y', color='black')\n",
    "ax1.legend(loc = 'upper left')"
   ]
  },
  {
   "cell_type": "markdown",
   "metadata": {},
   "source": [
    "### 初始化——扰动分布"
   ]
  },
  {
   "cell_type": "markdown",
   "metadata": {},
   "source": [
    "初始化$\\delta f_k$"
   ]
  },
  {
   "cell_type": "code",
   "execution_count": 16,
   "metadata": {},
   "outputs": [],
   "source": [
    "dfk  = np.zeros((Nk,Nv))\n",
    "dfk[1,:] = delta*0.5*F0\n",
    "dfk0 = np.zeros_like(dfk)\n",
    "\n",
    "phik = np.zeros_like(k)\n",
    "phi = np.zeros_like(x)"
   ]
  },
  {
   "cell_type": "markdown",
   "metadata": {},
   "source": [
    "### 初始化——未扰动演化信息"
   ]
  },
  {
   "cell_type": "code",
   "execution_count": 17,
   "metadata": {},
   "outputs": [],
   "source": [
    "k_ex = k[:,:,np.newaxis]\n",
    "v_ex = v[:,:,np.newaxis]\n",
    "dtc = np.arange(1,3).reshape(1,1,2)*0.5*dt\n",
    "\n",
    "UpdPhase = np.exp(-1j*k_ex*v_ex*dtc)"
   ]
  },
  {
   "cell_type": "code",
   "execution_count": 18,
   "metadata": {},
   "outputs": [
    {
     "name": "stderr",
     "output_type": "stream",
     "text": [
      "C:\\Users\\liang\\AppData\\Local\\Temp\\ipykernel_14432\\1572960961.py:5: RuntimeWarning: invalid value encountered in divide\n",
      "  em*(1.0-np.exp(-1j*k_ex*v_ex*dtc))/v_ex)\n",
      "C:\\Users\\liang\\AppData\\Local\\Temp\\ipykernel_14432\\1572960961.py:8: RuntimeWarning: divide by zero encountered in divide\n",
      "  Gkv_phik/(1j*k_ex*v_ex)-em*dtc*np.exp(-1j*k_ex*v_ex*dtc)/v_ex)\n",
      "C:\\Users\\liang\\AppData\\Local\\Temp\\ipykernel_14432\\1572960961.py:8: RuntimeWarning: invalid value encountered in divide\n",
      "  Gkv_phik/(1j*k_ex*v_ex)-em*dtc*np.exp(-1j*k_ex*v_ex*dtc)/v_ex)\n"
     ]
    }
   ],
   "source": [
    "condition = np.abs(k_ex*v_ex) < 0.1*dv\n",
    "\n",
    "Gkv_phik = np.where(condition,\n",
    "        em*1j*k_ex*np.ones_like(v_ex)*dtc,\n",
    "        em*(1.0-np.exp(-1j*k_ex*v_ex*dtc))/v_ex)\n",
    "Gkx_phik = np.where(condition,\n",
    "        0.5*Gkv_phik*dtc,\n",
    "        Gkv_phik/(1j*k_ex*v_ex)-em*dtc*np.exp(-1j*k_ex*v_ex*dtc)/v_ex)\n",
    "\n",
    "#del k_ex,v_ex,dtc,condition"
   ]
  },
  {
   "cell_type": "markdown",
   "metadata": {},
   "source": [
    "### 初始化——诊断"
   ]
  },
  {
   "cell_type": "code",
   "execution_count": 19,
   "metadata": {},
   "outputs": [],
   "source": [
    "DiagTime = TotalTime/nDiag\n",
    "\n",
    "output_folder = 'Output'\n",
    "if os.path.exists(output_folder):\n",
    "  shutil.rmtree(output_folder)\n",
    "os.makedirs(output_folder)\n",
    "\n",
    "\n",
    "np.savetxt('Output/Normalization.dat', \n",
    "    [mRef,eRef,tRef,vRef,xRef,k0,TotalTime,dt])\n",
    "\n",
    "k.tofile('Output/k.bin')\n",
    "x.tofile('Output/x.bin')\n",
    "v.tofile('Output/v.bin')\n",
    "F0.tofile('Output/F0.bin')\n",
    "phi0.tofile('Output/Phi0.bin')\n",
    "phi0k.tofile('Output/Phi0k.bin')"
   ]
  },
  {
   "cell_type": "markdown",
   "metadata": {},
   "source": [
    "## 第0步计算"
   ]
  },
  {
   "cell_type": "code",
   "execution_count": 20,
   "metadata": {},
   "outputs": [
    {
     "name": "stderr",
     "output_type": "stream",
     "text": [
      "C:\\Users\\liang\\AppData\\Local\\Temp\\ipykernel_14432\\4228897554.py:5: RuntimeWarning: invalid value encountered in divide\n",
      "  e*dNek/(eps*k*k))\n"
     ]
    }
   ],
   "source": [
    "'时间'\n",
    "t = 0.0\n",
    "tStep = 0\n",
    "\n",
    "'场方程'\n",
    "phik = Field(dfk,e,k,dv,eps)\n",
    "phi = fk2f(phik,Nx)\n",
    "\n",
    "'诊断'\n",
    "Diagnoses(t,phik,dfk,k0)"
   ]
  },
  {
   "cell_type": "markdown",
   "metadata": {},
   "source": [
    "Plot输出"
   ]
  },
  {
   "cell_type": "code",
   "execution_count": 22,
   "metadata": {},
   "outputs": [
    {
     "data": {
      "text/plain": [
       "<matplotlib.legend.Legend at 0x209d3983080>"
      ]
     },
     "execution_count": 22,
     "metadata": {},
     "output_type": "execute_result"
    },
    {
     "data": {
      "image/png": "[encoded data removed]",
      "text/plain": [
       "<Figure size 640x480 with 1 Axes>"
      ]
     },
     "metadata": {},
     "output_type": "display_data"
    }
   ],
   "source": [
    "fig, ax1 = plt.subplots()\n",
    "ax1.plot(k0*x/(2.0*np.pi),phi,color='red',label='Difference')\n",
    "ax1.set_xlabel('$k_0 x / 2\\\\pi$',color='black')\n",
    "ax1.set_ylabel('$\\\\delta\\\\phi$',color='black')\n",
    "ax1.tick_params(axis='y', color='black')\n",
    "ax1.legend(loc = 'upper left')"
   ]
  },
  {
   "cell_type": "markdown",
   "metadata": {},
   "source": [
    "## 主循环"
   ]
  },
  {
   "cell_type": "code",
   "execution_count": 23,
   "metadata": {},
   "outputs": [
    {
     "name": "stderr",
     "output_type": "stream",
     "text": [
      "C:\\Users\\liang\\AppData\\Local\\Temp\\ipykernel_14432\\4228897554.py:5: RuntimeWarning: divide by zero encountered in divide\n",
      "  e*dNek/(eps*k*k))\n",
      "C:\\Users\\liang\\AppData\\Local\\Temp\\ipykernel_14432\\4228897554.py:5: RuntimeWarning: invalid value encountered in divide\n",
      "  e*dNek/(eps*k*k))\n"
     ]
    },
    {
     "name": "stdout",
     "output_type": "stream",
     "text": [
      "Task has run 10.0%, this 10.0% is used 5.006 seconds.\n",
      "Task has run 20.0%, this 10.0% is used 4.123 seconds.\n",
      "Task has run 30.0%, this 10.0% is used 4.985 seconds.\n",
      "Task has run 40.0%, this 10.0% is used 4.693 seconds.\n",
      "Task has run 50.0%, this 10.0% is used 4.603 seconds.\n",
      "Task has run 60.0%, this 10.0% is used 4.439 seconds.\n",
      "Task has run 70.0%, this 10.0% is used 4.382 seconds.\n",
      "Task has run 80.0%, this 10.0% is used 5.114 seconds.\n",
      "Task has run 90.0%, this 10.0% is used 4.976 seconds.\n",
      "Task has run 100.0%, this 10.0% is used 4.619 seconds.\n"
     ]
    }
   ],
   "source": [
    "NotePst = 10.0  # 5%\n",
    "NoteTime = TotalTime*0.01*NotePst\n",
    "\n",
    "STime = time.perf_counter()\n",
    "while t < TotalTime-0.1*dt:\n",
    "  t += dt\n",
    "  tStep += 1\n",
    "\n",
    "  'Prediction'\n",
    "  if FlagNL:\n",
    "    PreOrCor = 0\n",
    "    dfk0 = dfk\n",
    "    dfk = Upd(PreOrCor,UpdPhase,dfk0)\n",
    "    dfk = PullBack(FlagNL,PreOrCor,phik,Gkx_phik,Gkv_phik,dvF0,dfk,k,hv)\n",
    "    phik = Field(dfk,e,k,dv,eps)\n",
    "  \n",
    "  'Correction'\n",
    "  PreOrCor = 1\n",
    "  if not FlagNL:\n",
    "    dfk0 = dfk\n",
    "  dfk = Upd(PreOrCor,UpdPhase,dfk0)\n",
    "  dfk = PullBack(FlagNL,PreOrCor,phik,Gkx_phik,Gkv_phik,dvF0,dfk,k,hv)\n",
    "  phik = Field(dfk,e,k,dv,eps)\n",
    "\n",
    "  if abs(round(t/DiagTime)*DiagTime-t) <= 0.1*dt:\n",
    "    Diagnoses(t,phik,dfk,k0)\n",
    "\n",
    "  if abs(round(t/NoteTime)*NoteTime-t) <= 0.1*dt:\n",
    "    ETime = time.perf_counter()\n",
    "    task_completion = round(t/NoteTime)*NotePst\n",
    "    print(f'Task has run {task_completion}%, '\n",
    "          f'this {NotePst}% is used {ETime-STime:.3f} seconds.')\n",
    "    STime = ETime"
   ]
  },
  {
   "cell_type": "markdown",
   "metadata": {},
   "source": [
    "## 输出"
   ]
  },
  {
   "cell_type": "code",
   "execution_count": 24,
   "metadata": {},
   "outputs": [
    {
     "data": {
      "text/plain": [
       "<matplotlib.legend.Legend at 0x209d3980d70>"
      ]
     },
     "execution_count": 24,
     "metadata": {},
     "output_type": "execute_result"
    },
    {
     "data": {
      "image/png": "[encoded data removed]",
      "text/plain": [
       "<Figure size 640x480 with 1 Axes>"
      ]
     },
     "metadata": {},
     "output_type": "display_data"
    }
   ],
   "source": [
    "t = np.loadtxt('Output/TimeList.dat')\n",
    "ene = np.loadtxt('Output/energy.dat')\n",
    "\n",
    "fig, ax1 = plt.subplots()\n",
    "ax1.plot(t,np.log10(ene),color='red',label='Difference')\n",
    "ax1.set_xlabel('$k_0 x / 2\\\\pi$',color='black')\n",
    "ax1.set_ylabel('$\\\\delta\\\\phi$',color='black')\n",
    "ax1.set_xlim(0, TotalTime)\n",
    "ax1.set_ylim(-4, -1)\n",
    "ax1.tick_params(axis='y', color='black')\n",
    "ax1.legend(loc = 'upper right')\n",
    "\n",
    "#plt.savefig('Nonlinear.jpg', format='jpg')\n",
    "#plt.show()"
   ]
  }
 ],
 "metadata": {
  "kernelspec": {
   "display_name": "Python 3",
   "language": "python",
   "name": "python3"
  },
  "language_info": {
   "codemirror_mode": {
    "name": "ipython",
    "version": 3
   },
   "file_extension": ".py",
   "mimetype": "text/x-python",
   "name": "python",
   "nbconvert_exporter": "python",
   "pygments_lexer": "ipython3",
   "version": "3.12.4"
  }
 },
 "nbformat": 4,
 "nbformat_minor": 2
}
